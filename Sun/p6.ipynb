{
 "cells": [
  {
   "cell_type": "markdown",
   "metadata": {},
   "source": [
    "# Yiran Sun"
   ]
  },
  {
   "cell_type": "code",
   "execution_count": 47,
   "metadata": {},
   "outputs": [],
   "source": [
    "from gurobipy import*\n",
    "import numpy as np"
   ]
  },
  {
   "cell_type": "code",
   "execution_count": 48,
   "metadata": {},
   "outputs": [],
   "source": [
    "m = Model ('Binary Model')\n",
    "m.remove(m.getVars())"
   ]
  },
  {
   "cell_type": "code",
   "execution_count": 49,
   "metadata": {},
   "outputs": [],
   "source": [
    "fixcost = 200\n",
    "varcost = 0.75\n",
    "dccapacity = 12000\n",
    "storerequirements = [208,54,66,282]\n",
    "mileage = [[102.607,363.467,570.934,867.499],[981.516,452.691,806.062,340.584],[889.421,563.914,199.202,113.305],[720.995,155.432,986.116,312.684]]\n",
    "trailers = [[208,208,208,208],[54,54,54,54],[66,66,66,66],[282,282,282,282]]"
   ]
  },
  {
   "cell_type": "code",
   "execution_count": 50,
   "metadata": {},
   "outputs": [],
   "source": [
    "x= np.array([[m.addVar(vtype=GRB.BINARY, name='x'+str(i)+'_'+str(j)) for j in range(4)]for i in range(4)])\n",
    "m.update()"
   ]
  },
  {
   "cell_type": "code",
   "execution_count": 51,
   "metadata": {},
   "outputs": [],
   "source": [
    "for i in range(4):\n",
    "    m.addConstr(sum(x[i,])*storerequirements[i],GRB.EQUAL,storerequirements[i])\n",
    "for j in range(4):\n",
    "    m.addConstr(quicksum(x[:,j][i]*storerequirements[i] for i in range(4)),GRB.LESS_EQUAL,dccapacity)\n",
    "m.update()"
   ]
  },
  {
   "cell_type": "code",
   "execution_count": null,
   "metadata": {},
   "outputs": [],
   "source": []
  },
  {
   "cell_type": "code",
   "execution_count": 52,
   "metadata": {},
   "outputs": [],
   "source": [
    "m.setObjective(quicksum(trailers[i][j]*mileage[i][j]*x[i,j] for j in range(4) for i in range(4))*varcost + (quicksum(trailers[i][j]*x[i,j] for j in range(4) for i in range(4)))*fixcost,GRB.MINIMIZE)\n",
    "m.update()"
   ]
  },
  {
   "cell_type": "code",
   "execution_count": 53,
   "metadata": {},
   "outputs": [
    {
     "name": "stdout",
     "output_type": "stream",
     "text": [
      "Optimize a model with 8 rows, 16 columns and 32 nonzeros\n",
      "Variable types: 0 continuous, 16 integer (16 binary)\n",
      "Coefficient statistics:\n",
      "  Matrix range     [5e+01, 3e+02]\n",
      "  Objective range  [2e+04, 3e+05]\n",
      "  Bounds range     [1e+00, 1e+00]\n",
      "  RHS range        [5e+01, 1e+04]\n",
      "Found heuristic solution: objective 406062.15650\n",
      "Presolve removed 8 rows and 16 columns\n",
      "Presolve time: 0.00s\n",
      "Presolve: All rows and columns removed\n",
      "\n",
      "Explored 0 nodes (0 simplex iterations) in 0.01 seconds\n",
      "Thread count was 1 (of 12 available processors)\n",
      "\n",
      "Solution count 2: 190283 406062 \n",
      "\n",
      "Optimal solution found (tolerance 1.00e-04)\n",
      "Best objective 1.902828095000e+05, best bound 1.902828095000e+05, gap 0.0000%\n"
     ]
    }
   ],
   "source": [
    "m.optimize()"
   ]
  },
  {
   "cell_type": "code",
   "execution_count": null,
   "metadata": {},
   "outputs": [],
   "source": []
  }
 ],
 "metadata": {
  "kernelspec": {
   "display_name": "Python 3",
   "language": "python",
   "name": "python3"
  },
  "language_info": {
   "codemirror_mode": {
    "name": "ipython",
    "version": 3
   },
   "file_extension": ".py",
   "mimetype": "text/x-python",
   "name": "python",
   "nbconvert_exporter": "python",
   "pygments_lexer": "ipython3",
   "version": "3.7.3"
  }
 },
 "nbformat": 4,
 "nbformat_minor": 2
}
